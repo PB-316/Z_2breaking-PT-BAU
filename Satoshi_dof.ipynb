{
 "cells": [
  {
   "cell_type": "code",
   "execution_count": 1,
   "metadata": {},
   "outputs": [],
   "source": [
    "import csv\n",
    "import numpy as np\n",
    "from scipy.interpolate import interp1d\n",
    "\n",
    "data = np.loadtxt( 'satoshi_dof.dat' )\n",
    "Temperature_d=(data.T)[0][900:3900]\n",
    "dof_d=(data.T)[1][900:3900]\n",
    "f = interp1d(Temperature_d, dof_d)\n",
    "g_star = interp1d(Temperature_d, dof_d, kind='cubic')\n"
   ]
  },
  {
   "cell_type": "code",
   "execution_count": 12,
   "metadata": {
    "jupyter": {
     "outputs_hidden": false
    }
   },
   "outputs": [
    {
     "data": {
      "text/plain": [
       "array([[1.9952623e-06, 3.3830836e+00, 3.3830836e-03, 3.9309363e+00,\n",
       "        3.9309363e-03],\n",
       "       [2.0057191e-06, 3.3830836e+00, 3.3830836e-03, 3.9309363e+00,\n",
       "        3.9309363e-03],\n",
       "       [2.0162307e-06, 3.3830836e+00, 3.3830836e-03, 3.9309363e+00,\n",
       "        3.9309363e-03],\n",
       "       ...,\n",
       "       [9.8701719e+16, 1.0525389e+02, 2.6549406e-02, 1.0525245e+02,\n",
       "        2.6409276e-02],\n",
       "       [9.9218996e+16, 1.0525389e+02, 2.6549128e-02, 1.0525245e+02,\n",
       "        2.6409067e-02],\n",
       "       [9.9738985e+16, 1.0525388e+02, 2.6548867e-02, 1.0525245e+02,\n",
       "        2.6408871e-02]])"
      ]
     },
     "execution_count": 12,
     "metadata": {},
     "output_type": "execute_result"
    }
   ],
   "source": [
    "data"
   ]
  },
  {
   "cell_type": "code",
   "execution_count": 13,
   "metadata": {
    "jupyter": {
     "outputs_hidden": false
    }
   },
   "outputs": [
    {
     "data": {
      "text/plain": [
       "array([1.9952623e-06, 3.3830836e+00, 3.3830836e-03, 3.9309363e+00,\n",
       "       3.9309363e-03])"
      ]
     },
     "execution_count": 13,
     "metadata": {},
     "output_type": "execute_result"
    }
   ],
   "source": [
    "data[0]"
   ]
  },
  {
   "cell_type": "code",
   "execution_count": 3,
   "metadata": {
    "jupyter": {
     "outputs_hidden": false
    }
   },
   "outputs": [
    {
     "data": {
      "image/png": "[encoded data removed]",
      "text/plain": [
       "<Figure size 432x288 with 1 Axes>"
      ]
     },
     "metadata": {
      "needs_background": "light"
     },
     "output_type": "display_data"
    }
   ],
   "source": [
    "import matplotlib.pyplot as plt\n",
    "t=np.arange(5,300)\n",
    "plt.plot(t,g_star(t))\n",
    "plt.show()"
   ]
  },
  {
   "cell_type": "code",
   "execution_count": 7,
   "metadata": {
    "jupyter": {
     "outputs_hidden": true
    }
   },
   "outputs": [
    {
     "data": {
      "text/plain": [
       "array(81.0111146)"
      ]
     },
     "execution_count": 7,
     "metadata": {},
     "output_type": "execute_result"
    }
   ],
   "source": [
    "g_star(10)"
   ]
  },
  {
   "cell_type": "code",
   "execution_count": null,
   "metadata": {},
   "outputs": [],
   "source": []
  }
 ],
 "metadata": {
  "kernelspec": {
   "display_name": "Python 3",
   "language": "python",
   "name": "python3"
  },
  "language_info": {
   "codemirror_mode": {
    "name": "ipython",
    "version": 3
   },
   "file_extension": ".py",
   "mimetype": "text/x-python",
   "name": "python",
   "nbconvert_exporter": "python",
   "pygments_lexer": "ipython3",
   "version": "3.6.12"
  }
 },
 "nbformat": 4,
 "nbformat_minor": 4
}
